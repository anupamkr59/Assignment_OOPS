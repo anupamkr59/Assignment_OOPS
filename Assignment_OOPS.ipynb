{
  "nbformat": 4,
  "nbformat_minor": 0,
  "metadata": {
    "colab": {
      "provenance": []
    },
    "kernelspec": {
      "name": "python3",
      "display_name": "Python 3"
    },
    "language_info": {
      "name": "python"
    }
  },
  "cells": [
    {
      "cell_type": "markdown",
      "source": [
        "1. What is Object-Oriented Programming (OOP)?\n",
        "\n",
        "Ans. OOP is an Object Oriented Programming which helps to acces the method and attributes by creating an  object of a class.\n",
        "Four core principle of OOP are:\n",
        "1. Inheritance\n",
        "2. Encapsulation\n",
        "3. Abstraction\n",
        "4. Polymorphism"
      ],
      "metadata": {
        "id": "asqfFV_bBwSg"
      }
    },
    {
      "cell_type": "markdown",
      "source": [
        "2. What is a class in OOP?\n",
        "\n",
        "Ans. A class acts as a template or blueprint in OOP. Objects are created based on that to access the methods and attributes define in it.\n"
      ],
      "metadata": {
        "id": "2wIe0lcAUgAm"
      }
    },
    {
      "cell_type": "markdown",
      "source": [
        "3. What is a object in OOP?\n",
        "\n",
        "Ans. An object is a real world instance of a class.It has its own data and functions."
      ],
      "metadata": {
        "id": "PsUlGgY0U7zB"
      }
    },
    {
      "cell_type": "markdown",
      "source": [
        "4. What is the difference between abstraction and encapsulation?\n",
        "\n",
        "Ans. Abstraction is used to hide unnecessary details and showing only important stuffs. Abstract class can't make object and will always be subclass.\n",
        "\n",
        "Encapsulation is used to wrap the data and method together and protect it from outside interference"
      ],
      "metadata": {
        "id": "HmN_aa-AVWXT"
      }
    },
    {
      "cell_type": "markdown",
      "source": [
        "5. What are dunder methods in Python?\n",
        "\n",
        "Ans. Dunder method is a magical or special method defined in Python that start and ends with __(double underscore). Ex:- __init__, __str__, __add__.\n"
      ],
      "metadata": {
        "id": "QB1r7VfAerYL"
      }
    },
    {
      "cell_type": "markdown",
      "source": [
        "6. Explain the concept of inheritance in OOP?\n",
        "\n",
        "Ans. Inheritance is used in OOP to reuse the methods or data of one class(parent class) by another class(child class). There are different types of inheritance in Python:\n",
        "a. Single Inheritance\n",
        "b. Multiple Inheritance\n",
        "c. Multilevel Inheritance\n",
        "d. Hierarchical Inheritance"
      ],
      "metadata": {
        "id": "JJptdFH7fyTD"
      }
    },
    {
      "cell_type": "markdown",
      "source": [
        "7. What is polymorphism in OOP?\n",
        "\n",
        "Ans. Polymorphism means many forms and similarly in OOP, same function/method name can behave differently based on the object created and argument passed. It allows different class to define the same method in different manner"
      ],
      "metadata": {
        "id": "6bCgynX_hJe8"
      }
    },
    {
      "cell_type": "markdown",
      "source": [
        "8. How is encapsulation achieved in Python?\n",
        "\n",
        "Ans. Encapsulation means hiding the internal details of an object and only exposing the necessary details.\n",
        "It protets the direct access to the data inside a class.\n",
        "Python uses access modifiers(by naming rules) to control the data.\n",
        "Public, Protected(_var) and Private(__var) are the three different access levels."
      ],
      "metadata": {
        "id": "vllnUHUfh0aN"
      }
    },
    {
      "cell_type": "markdown",
      "source": [
        "9. What is a constructor in Python?\n",
        "\n",
        "Ans. A constructor is a special method that automatically runs when object is created. Condtructor method in Python is __init__ which helps in initialization."
      ],
      "metadata": {
        "id": "veBOxZ76j9X2"
      }
    },
    {
      "cell_type": "markdown",
      "source": [
        "10. What are class and static methods in Python?\n",
        "\n",
        "Ans. A class method works with class itself,not just individual objects. It takes cls as the first argument instead of self and can modify class variable across all shared objects. It is marked with the @classmethod decorator.\n",
        "\n",
        "Static method is a regular function inside the class and doesn't modify the class variable"
      ],
      "metadata": {
        "id": "E--TQn4El6xc"
      }
    },
    {
      "cell_type": "markdown",
      "source": [
        "11. What is method overloading in Python?\n",
        "\n",
        "Ans. Python doesn't support method overloading in true sense but if same method if defined with differenty arguments in python, then the last one will override the previous one."
      ],
      "metadata": {
        "id": "bl11jeHis2JN"
      }
    },
    {
      "cell_type": "markdown",
      "source": [
        "12.  What is method overriding in OOP?\n",
        "\n",
        "Ans. Method overriding usually takes place in inheritance as child class override the method of parent class. Python allows child class to override it."
      ],
      "metadata": {
        "id": "l0UowUnouG5Q"
      }
    },
    {
      "cell_type": "markdown",
      "source": [
        "13. What is a property decorator in Python?\n",
        "\n",
        "Ans. @Property is a decorator that let us define the method but access it like a attribute. Basically, property.setter and property.deleter are the key factor. It turns the method into a read only method"
      ],
      "metadata": {
        "id": "VlZPBJSswnPC"
      }
    },
    {
      "cell_type": "markdown",
      "source": [
        "14. Why is polymorphism important in OOP?\n",
        "\n",
        "Ans. In Object-Oriented Programming (OOP), polymorphism lets different classes be treated as the same type through a common interface. It provides:\n",
        "Flexibility, Reusability, Extensibility"
      ],
      "metadata": {
        "id": "yOZ7ZgAKx4_l"
      }
    },
    {
      "cell_type": "markdown",
      "source": [
        "15.  What is an abstract class in Python\n",
        "\n",
        "Ans. Abstract class is a class that can't be instantiated. Objects can't be created."
      ],
      "metadata": {
        "id": "ZJ6Av3Cp0cT3"
      }
    },
    {
      "cell_type": "markdown",
      "source": [
        "16. What are the advantages of OOP?\n",
        "\n",
        "Ans. Advantages of OOP:\n",
        "Reusability, Modularity, Easy Maintenance, Simple and clean programming, Data Protection, Flexibility and Extensibility"
      ],
      "metadata": {
        "id": "chWQ1vr38WF9"
      }
    },
    {
      "cell_type": "markdown",
      "source": [
        "17. What is the difference between a class variable and an instance variable\n",
        "\n",
        "Ans. Class variable is shared with all the objects of class whereas Instance variable is particular to an object.\n",
        "Class variable is defined inside the class but outside any method whereas Instance variable is defined inside the constructor"
      ],
      "metadata": {
        "id": "vWv-mKrn871Q"
      }
    },
    {
      "cell_type": "markdown",
      "source": [
        "18. What is multiple inheritance in Python\n",
        "\n",
        "Ans. Multiple inheritance results in when a child class inherit methods and attributes from more than one class."
      ],
      "metadata": {
        "id": "qKuDiD5h9kIM"
      }
    },
    {
      "cell_type": "markdown",
      "source": [
        "19. Explain the purpose of ‘’__str__’ and ‘__repr__’ ‘ methods in Python?\n",
        "\n",
        "Ans. __str__ method is use to define the string representation of an object.\n",
        "print(object) or str(object) is use to return the value. The print statement automatically calls the obj.__str__()\n",
        "\n",
        "__repr__ method is used for developers to represent an object. The print statemnt needs to call the __repr__ as print(repr(obj))"
      ],
      "metadata": {
        "id": "Qn8j6YSv_DPT"
      }
    },
    {
      "cell_type": "markdown",
      "source": [
        "20. What is the significance of the ‘super()’ function in Python?\n",
        "\n",
        "Ans. Super() gives access to methods and properties of a parent class without hardcosing the parent class name. It automatically follows the MRO."
      ],
      "metadata": {
        "id": "HAgmAuu8AOlI"
      }
    },
    {
      "cell_type": "markdown",
      "source": [
        "21. What is the significance of the __del__ method in Python?\n",
        "\n",
        "Ans. The __del__ method is called as a destructor and is called automatically by using del obj."
      ],
      "metadata": {
        "id": "n_NLBh0RHkJx"
      }
    },
    {
      "cell_type": "markdown",
      "source": [
        "22. What is the difference between @staticmethod and @classmethod in Python\n",
        "\n",
        "Ans. @classmethod- A method that knows about the class.It can access/modify class variables and even create new objects.\n",
        "\n",
        "@staticmethod- A method that belongs to the class but doesn't know about the class or instance.Just a regular function inside a class."
      ],
      "metadata": {
        "id": "0bzywM2RKbSZ"
      }
    },
    {
      "cell_type": "markdown",
      "source": [
        "23. How does polymorphism work in Python with inheritance\n",
        "\n",
        "Ans. Polymorphism are of two types:\n",
        "Overloading and Overriding. Overloading doesn't truely support in Python, In inheritance overriding polymorphism comes into existence"
      ],
      "metadata": {
        "id": "LikTnFTVL8Vo"
      }
    },
    {
      "cell_type": "markdown",
      "source": [
        "24. What is method chaining in Python OOP?\n",
        "\n",
        "Ans. Method chaining means calling multiple methods on the same object in a single line, one after another."
      ],
      "metadata": {
        "id": "hEJUC1AJNKMp"
      }
    },
    {
      "cell_type": "markdown",
      "source": [
        "25. What is the purpose of the __call__ method in Python?\n",
        "\n",
        "Ans. __call__ method is a dunder or special method that allows an object to behave like a function."
      ],
      "metadata": {
        "id": "eDjGmnOrLtMu"
      }
    },
    {
      "cell_type": "code",
      "source": [
        "#Practical\n",
        "#1. Create a parent class Animal with a method speak() that prints a generic message. Create a child class Dog that overrides the speak() method to print \"Bark!\".\n",
        "\n",
        "class Animal:\n",
        "  def speak(self):\n",
        "    print(\"Animal Sound\")\n",
        "\n",
        "class Dog(Animal):\n",
        "  def speak(self):\n",
        "    print(\"Bark!\")\n",
        "\n",
        "dog = Dog()\n",
        "dog.speak()\n",
        "\n"
      ],
      "metadata": {
        "colab": {
          "base_uri": "https://localhost:8080/"
        },
        "id": "IoHZv9c3QdKD",
        "outputId": "bc723788-58fa-48d2-e1c7-41c433bb92e7"
      },
      "execution_count": 2,
      "outputs": [
        {
          "output_type": "stream",
          "name": "stdout",
          "text": [
            "Bark!\n"
          ]
        }
      ]
    },
    {
      "cell_type": "code",
      "source": [
        "#2. Write a program to create an abstract class Shape with a method area(). Derive classes Circle and Rectangle from it and implement the area() method in both.\n",
        "\n",
        "from abc import ABC, abstractmethod\n",
        "class Shape(ABC):\n",
        "  @abstractmethod\n",
        "  def area(self):\n",
        "    pass\n",
        "\n",
        "class Circle(Shape):\n",
        "  def __init__(self,radius):\n",
        "    self.radius=radius\n",
        "\n",
        "  def area(self):\n",
        "    return 3.14*self.radius*self.radius\n",
        "\n",
        "class Rectangle(Shape):\n",
        "  def __init__(self,length,breadth):\n",
        "    self.length=length\n",
        "    self.breadth=breadth\n",
        "\n",
        "  def area(self):\n",
        "    return self.length*self.breadth\n",
        "\n",
        "Circle=Circle(5)\n",
        "Rectangle=Rectangle(5,4)\n",
        "\n",
        "print(f\"Area of Circle is {Circle.area()}\")\n",
        "print(f\"Area of Rectangle is {Rectangle.area()}\")\n",
        "\n",
        "\n"
      ],
      "metadata": {
        "colab": {
          "base_uri": "https://localhost:8080/"
        },
        "id": "tnpuIBmfRLXC",
        "outputId": "c056e9d5-121e-4a34-9234-4db79628b106"
      },
      "execution_count": 10,
      "outputs": [
        {
          "output_type": "stream",
          "name": "stdout",
          "text": [
            "Area of Circle is 78.5\n",
            "Area of Rectangle is 20\n"
          ]
        }
      ]
    },
    {
      "cell_type": "code",
      "source": [
        "#3. Implement a multi-level inheritance scenario where a class Vehicle has an attribute type. Derive a class Car\n",
        "#and further derive a class ElectricCar that adds a battery attribute.\n",
        "\n",
        "class Vehicle:\n",
        "  def __init__(self,vehicle_type):\n",
        "    self.vehicle_type = vehicle_type\n",
        "\n",
        "  def info(self):\n",
        "    print(f\"vehicle type is:{self.vehicle_type}\")\n",
        "\n",
        "class Car(Vehicle):\n",
        "  def __init__(self,vehicle_type,brand):\n",
        "    super().__init__(vehicle_type)\n",
        "    self.brand=brand\n",
        "\n",
        "  def info(self):\n",
        "    super().info()\n",
        "    print(f\"vehicle brand is:{self.brand}\")\n",
        "\n",
        "class ElectricCar(Car):\n",
        "  def __init__(self,vehicle_type,brand,battery_type):\n",
        "    super().__init__(vehicle_type,brand)\n",
        "    self.battery_type=battery_type\n",
        "\n",
        "  def info(self):\n",
        "    super().info()\n",
        "    print(f\"battery type is:{self.battery_type} kwh\")\n",
        "\n",
        "my_tesla = ElectricCar(\"Electric\", \"Tesla\", 75)\n",
        "my_tesla.info()\n",
        "\n"
      ],
      "metadata": {
        "colab": {
          "base_uri": "https://localhost:8080/"
        },
        "id": "exnajND7kuKe",
        "outputId": "b2fa4b1c-af87-416d-ac8e-77b9b0702794"
      },
      "execution_count": 14,
      "outputs": [
        {
          "output_type": "stream",
          "name": "stdout",
          "text": [
            "vehicle type is:Electric\n",
            "vehicle brand is:Tesla\n",
            "battery type is:75 kwh\n"
          ]
        }
      ]
    },
    {
      "cell_type": "code",
      "source": [
        "class Vehicle:\n",
        "  def __init__(self,vehicle_type):\n",
        "    self.vehicle_type=vehicle_type\n",
        "\n",
        "  def display_info(self):\n",
        "    print(f\"Vehicle type is:{self.vehicle_type}\")\n",
        "\n",
        "class Car(Vehicle):\n",
        "  def __init__(self,vehicle_type,brand):\n",
        "    super().__init__(vehicle_type)\n",
        "    self.brand=brand\n",
        "\n",
        "  def display_info(self):\n",
        "    super().display_info()\n",
        "    print(f\"Vehicle brand is:{self.brand}\")\n",
        "\n",
        "class ElectricCar(Car):\n",
        "  def __init__(self,vehicle_type,brand,battery):\n",
        "    super().__init__(vehicle_type,brand)\n",
        "    self.battery=battery\n",
        "\n",
        "  def display_info(self):\n",
        "    super().display_info()\n",
        "    print(f\"Battery type is:{self.battery}\")\n",
        "\n",
        "my_tesla=ElectricCar(\"Automatic\",\"Tesla\",\"Electric\")\n",
        "my_tesla.display_info()"
      ],
      "metadata": {
        "colab": {
          "base_uri": "https://localhost:8080/"
        },
        "id": "Ghqc7XS8p_zv",
        "outputId": "06b604fc-71ff-4bc3-e561-2af2961b6840"
      },
      "execution_count": 23,
      "outputs": [
        {
          "output_type": "stream",
          "name": "stdout",
          "text": [
            "Vehicle type is:Automatic\n",
            "Vehicle brand is:Tesla\n",
            "Battery type is:Electric\n"
          ]
        }
      ]
    },
    {
      "cell_type": "code",
      "source": [
        "#4.Demonstrate polymorphism by creating a base class Bird with a method fly(). Create two derived classes\n",
        "#Sparrow and Penguin that override the fly() method.\n",
        "\n",
        "class Bird:\n",
        "  def fly(self):\n",
        "    print(f\"Bird fly upto a range:\")\n",
        "\n",
        "class Sparrow(Bird):\n",
        "  def fly(self):\n",
        "    print(f\"Sparrow fly upto a range:\")\n",
        "\n",
        "class Penguin(Bird):\n",
        "  def fly(self):\n",
        "    print(f\"Penguin attempted to fly upto range:\")\n",
        "\n",
        "def bird_fly_test(bird):\n",
        "    bird.fly()\n",
        "\n",
        "Sparrow1=Sparrow()\n",
        "Penguin1=Penguin()\n",
        "\n",
        "bird_fly_test(Sparrow1)\n",
        "bird_fly_test(Penguin1)\n"
      ],
      "metadata": {
        "colab": {
          "base_uri": "https://localhost:8080/"
        },
        "id": "tIXjS9iY6w42",
        "outputId": "a4e04958-4549-4d28-f7ff-a86035a14693"
      },
      "execution_count": 4,
      "outputs": [
        {
          "output_type": "stream",
          "name": "stdout",
          "text": [
            "Sparrow fly upto a range:\n",
            "Penguin attempted to fly upto range:\n"
          ]
        }
      ]
    },
    {
      "cell_type": "code",
      "source": [
        "#5. Write a program to demonstrate encapsulation by creating a class BankAccount with private attributes\n",
        "#balance and methods to deposit, withdraw, and check balance\n",
        "\n",
        "class Bank:\n",
        "  def __init__(self,balance):\n",
        "    self._balance=balance\n",
        "\n",
        "  def deposit(self,amount):\n",
        "    if amount > 0:\n",
        "      self._balance += amount\n",
        "      print(f\"Deposited:{amount}\")\n",
        "\n",
        "    else:\n",
        "      print(f\"Deposit must be positive\")\n",
        "\n",
        "  def withdraw(self,amount):\n",
        "    if 0 < amount <=self._balance:\n",
        "      self._balance -= amount\n",
        "      print(f\"Withdrawan:{amount}\")\n",
        "\n",
        "    else:\n",
        "      print(f\"Invalid withdraw amount\")\n",
        "\n",
        "  def check_balance(self):\n",
        "    print(f\"The balance is:{self._balance}\")\n",
        "\n",
        "Bank1=Bank(5000)\n",
        "Bank1.deposit(2000)\n",
        "Bank1.check_balance()\n",
        "Bank1.withdraw(3000)\n",
        "Bank1.check_balance()"
      ],
      "metadata": {
        "colab": {
          "base_uri": "https://localhost:8080/"
        },
        "id": "-zbB1fA289mA",
        "outputId": "860ccfce-cbdd-47b2-e0bc-462bcb0334dd"
      },
      "execution_count": 9,
      "outputs": [
        {
          "output_type": "stream",
          "name": "stdout",
          "text": [
            "Deposited:2000\n",
            "The balance is:7000\n",
            "Withdrawan:3000\n",
            "The balance is:4000\n"
          ]
        }
      ]
    },
    {
      "cell_type": "code",
      "source": [
        "#6. Demonstrate runtime polymorphism using a method play() in a base class Instrument. Derive classes Guitar\n",
        "#and Piano that implement their own version of play().\n",
        "\n",
        "class Instrument:\n",
        "  def play(self):\n",
        "    print(f\"All the instruments have their unique melody\")\n",
        "\n",
        "class Guitar(Instrument):\n",
        "  def play(self):\n",
        "    print(f\"Learning Guitar is not so difficult\")\n",
        "\n",
        "class Piano(Instrument):\n",
        "  def play(self):\n",
        "    print(f\"Piano is played with fingers\")\n",
        "\n",
        "def play_test(self):\n",
        "  self.play()\n",
        "\n",
        "Guitar1=Guitar()\n",
        "Piano1=Piano()\n",
        "\n",
        "play_test(Guitar1)\n",
        "play_test(Piano1)"
      ],
      "metadata": {
        "colab": {
          "base_uri": "https://localhost:8080/"
        },
        "id": "_8KCt5jIKcUA",
        "outputId": "d4783412-5066-45ff-dd06-bdb9079ce387"
      },
      "execution_count": 10,
      "outputs": [
        {
          "output_type": "stream",
          "name": "stdout",
          "text": [
            "Learning Guitar is not so difficult\n",
            "Piano is played with fingers\n"
          ]
        }
      ]
    },
    {
      "cell_type": "code",
      "source": [
        "#7.  Create a class MathOperations with a class method add_numbers() to add two numbers and a static\n",
        "#method subtract_numbers() to subtract two numbers.\n",
        "\n",
        "class MathOperations:\n",
        "  @classmethod\n",
        "  def add_numbers(cls,x,y):\n",
        "    return x+y\n",
        "\n",
        "  @staticmethod\n",
        "  def subtract_numbers(x,y):\n",
        "    return x-y\n",
        "\n",
        "result_add=MathOperations.add_numbers(5,4)\n",
        "print(f\"Sum of two numbers are:{result_add}\")\n",
        "result_subtract=MathOperations.subtract_numbers(8,6)\n",
        "print(f\"Difference of two numbers are:{result_subtract}\")\n"
      ],
      "metadata": {
        "colab": {
          "base_uri": "https://localhost:8080/"
        },
        "id": "1pmcTOFwOWxa",
        "outputId": "385d0529-1f5e-4856-970e-25b3d3d601d3"
      },
      "execution_count": 12,
      "outputs": [
        {
          "output_type": "stream",
          "name": "stdout",
          "text": [
            "Sum of two numbers are:9\n",
            "Difference of two numbers are:2\n"
          ]
        }
      ]
    },
    {
      "cell_type": "code",
      "source": [
        "#8.  Implement a class Person with a class method to count the total number of persons created.\n",
        "class Person:\n",
        "  count=0\n",
        "  def __init__(self,name):\n",
        "    self.name=name\n",
        "    Person.count += 1\n",
        "\n",
        "  @classmethod\n",
        "  def total_person(cls):\n",
        "    print(f\"Total person is:{cls.count}\")\n",
        "\n",
        "p1=Person(\"Anupam\")\n",
        "p2=Person(\"Raj\")\n",
        "\n",
        "Person.total_person()\n",
        "\n",
        "\n",
        "\n"
      ],
      "metadata": {
        "colab": {
          "base_uri": "https://localhost:8080/"
        },
        "id": "srUkJjAUa_5i",
        "outputId": "24252fd3-3aea-4da0-c995-c13bb58dd45d"
      },
      "execution_count": 13,
      "outputs": [
        {
          "output_type": "stream",
          "name": "stdout",
          "text": [
            "Total person is:2\n"
          ]
        }
      ]
    },
    {
      "cell_type": "code",
      "source": [
        "#9.  Write a class Fraction with attributes numerator and denominator. Override the str method to display the\n",
        "#fraction as \"numerator/denominator\".\n",
        "\n",
        "class Fraction:\n",
        "  def __init__(self, numerator, denominator):\n",
        "    self.numerator=numerator\n",
        "    self.denominator=denominator\n",
        "\n",
        "  def __str__(self):\n",
        "    return f\"Fraction is:{self.numerator}/{self.denominator}\"\n",
        "\n",
        "f1=Fraction(6,8)\n",
        "print(f1)"
      ],
      "metadata": {
        "colab": {
          "base_uri": "https://localhost:8080/"
        },
        "id": "alIMOOGLef5J",
        "outputId": "b6877d13-c8d1-4f2a-cc4a-b79877cd54fb"
      },
      "execution_count": 18,
      "outputs": [
        {
          "output_type": "stream",
          "name": "stdout",
          "text": [
            "Fraction is:6/8\n"
          ]
        }
      ]
    },
    {
      "cell_type": "code",
      "source": [
        "#10.  Demonstrate operator overloading by creating a class Vector and overriding the add method to add two\n",
        "#vectors.\n",
        "\n",
        "class Vector:\n",
        "  def __init__(self,x,y):\n",
        "    self.x=x\n",
        "    self.y=y\n",
        "\n",
        "  def __add__(self,other):\n",
        "    return Vector(self.x+other.x, self.y+other.y)\n",
        "\n",
        "  def __str__(self):\n",
        "    return f\"Vector({self.x},{self.y})\"\n",
        "\n",
        "V1=Vector(5,6)\n",
        "V2=Vector(9,8)\n",
        "\n",
        "result=V1+V2\n",
        "\n",
        "print(result)"
      ],
      "metadata": {
        "colab": {
          "base_uri": "https://localhost:8080/"
        },
        "id": "bUo-e9iwft_-",
        "outputId": "c43411cf-8ad7-4502-aa6a-005d93906f97"
      },
      "execution_count": 23,
      "outputs": [
        {
          "output_type": "stream",
          "name": "stdout",
          "text": [
            "Vector(14,14)\n"
          ]
        }
      ]
    },
    {
      "cell_type": "code",
      "source": [
        "#11. Create a class Person with attributes name and age. Add a method greet() that prints \"Hello, my name is\n",
        "#{name} and I am {age} years old.\"\n",
        "\n",
        "class Person:\n",
        "  def __init__(self, name, age):\n",
        "    self.name=name\n",
        "    self.age=age\n",
        "\n",
        "  def greet(self):\n",
        "    print(\"Hello, my name is {name} and I am {age} years old\")\n",
        "\n",
        "P1=Person(\"Anupam\",27)\n",
        "P1.greet()"
      ],
      "metadata": {
        "colab": {
          "base_uri": "https://localhost:8080/"
        },
        "id": "v0cOchVWhv21",
        "outputId": "05362808-b9a9-40ae-9832-ad533e4dcfba"
      },
      "execution_count": 24,
      "outputs": [
        {
          "output_type": "stream",
          "name": "stdout",
          "text": [
            "Hello, my name is {name} and I am {age} years old\n"
          ]
        }
      ]
    },
    {
      "cell_type": "code",
      "source": [
        "#12. Implement a class Student with attributes name and grades. Create a method average_grade() to compute\n",
        "#the average of the grades.\n",
        "\n",
        "class Student:\n",
        "  def __init__(self, name, grades):\n",
        "    self.name=name\n",
        "    self.grades=grades\n",
        "\n",
        "  def average_grade(self):\n",
        "    total=0\n",
        "    for grade in self.grades:\n",
        "      total= total+grade\n",
        "      avg=total/len(self.grades)\n",
        "    return avg\n",
        "\n",
        "Student1=Student(\"Anupam\",[85,90,96,99])\n",
        "\n",
        "print(f\"{Student1.name} has secured avg of {Student1.average_grade()}\")"
      ],
      "metadata": {
        "colab": {
          "base_uri": "https://localhost:8080/"
        },
        "id": "CPMBpG_QjAMD",
        "outputId": "a66c4da1-3881-4e71-c3db-87666b3069e4"
      },
      "execution_count": 27,
      "outputs": [
        {
          "output_type": "stream",
          "name": "stdout",
          "text": [
            "Anupam has secured avg of 92.5\n"
          ]
        }
      ]
    },
    {
      "cell_type": "code",
      "source": [
        "#13.  Create a class Rectangle with methods set_dimensions() to set the dimensions and area() to calculate the\n",
        "#area.\n",
        "\n",
        "class Rectangle:\n",
        "  def __init__(self):\n",
        "    self.length=0\n",
        "    self.breadth=0\n",
        "\n",
        "  def set_dimensions(self,length,breadth):\n",
        "    self.length=length\n",
        "    self.breadth=breadth\n",
        "\n",
        "  def area(self):\n",
        "    return (self.length*self.breadth)\n",
        "\n",
        "\n",
        "Rectangle1=Rectangle()\n",
        "Rectangle1.set_dimensions(5,4)\n",
        "\n",
        "print(f\"Area is:{Rectangle1.area()}\")\n",
        "\n"
      ],
      "metadata": {
        "colab": {
          "base_uri": "https://localhost:8080/"
        },
        "id": "UGD8wWA7mGxa",
        "outputId": "983db355-cd8f-4f98-9ab2-2189a3bea26d"
      },
      "execution_count": 35,
      "outputs": [
        {
          "output_type": "stream",
          "name": "stdout",
          "text": [
            "Area is:20\n"
          ]
        }
      ]
    },
    {
      "cell_type": "code",
      "source": [
        "#14. Create a class Employee with a method calculate_salary() that computes the salary based on hours worked\n",
        "#and hourly rate. Create a derived class Manager that adds a bonus to the salary.\n",
        "\n",
        "class Employee:\n",
        "  def __init__(self,hour_worked,rate):\n",
        "    self.hour_worked=hour_worked\n",
        "    self.rate=rate\n",
        "\n",
        "  def calculate_salary(self):\n",
        "    return self.hour_worked*self.rate\n",
        "\n",
        "class Manager(Employee):\n",
        "  def __init__(self,hour_worked,rate,bonus):\n",
        "    super().__init__(hour_worked,rate)\n",
        "    self.bonus=bonus\n",
        "\n",
        "  def calculate_salary(self):\n",
        "    Actual_Salary=super().calculate_salary()\n",
        "    return Actual_Salary+self.bonus\n",
        "\n",
        "Employee1=Manager(70,800,2000)\n",
        "print(f\"Salary of Employee is:{Employee1.calculate_salary()}\")\n",
        "\n",
        "\n"
      ],
      "metadata": {
        "colab": {
          "base_uri": "https://localhost:8080/"
        },
        "id": "m6Q9lhXgrgQ2",
        "outputId": "8e145d68-58d9-497e-f776-a6c041555bcb"
      },
      "execution_count": 41,
      "outputs": [
        {
          "output_type": "stream",
          "name": "stdout",
          "text": [
            "Salary of Employee is:58000\n"
          ]
        }
      ]
    },
    {
      "cell_type": "code",
      "source": [
        "#15.  Create a class Product with attributes name, price, and quantity. Implement a method total_price() that\n",
        "#calculates the total price of the product.\n",
        "\n",
        "class Product:\n",
        "  def __init__(self,name,price,quantity):\n",
        "    self.name=name\n",
        "    self.price=price\n",
        "    self.quantity=quantity\n",
        "\n",
        "  def total_price(self):\n",
        "    return self.price*self.quantity\n",
        "\n",
        "Product1=Product(\"Ball\",95,8)\n",
        "print(f\"Total price of {Product1.name} is {Product1.total_price()}\")"
      ],
      "metadata": {
        "colab": {
          "base_uri": "https://localhost:8080/"
        },
        "id": "8ORgn57Utq1b",
        "outputId": "cfcc9fc8-d59f-4e3a-cbd5-972c7f63ce80"
      },
      "execution_count": 42,
      "outputs": [
        {
          "output_type": "stream",
          "name": "stdout",
          "text": [
            "Total price of Ball is 760\n"
          ]
        }
      ]
    },
    {
      "cell_type": "code",
      "source": [
        "#16. Create a class Animal with an abstract method sound(). Create two derived classes Cow and Sheep that\n",
        "#implement the sound() method.\n",
        "\n",
        "from abc import ABC, abstractmethod\n",
        "class Animal(ABC):\n",
        "  @abstractmethod\n",
        "  def sound(self):\n",
        "    pass\n",
        "\n",
        "class Cow(Animal):\n",
        "  def sound(self):\n",
        "    print(\"Cow sounds as ooooh\")\n",
        "\n",
        "class Sheep(Animal):\n",
        "    def sound(self):\n",
        "      print(\"Sheep sound isn't pleasant\")\n",
        "\n",
        "Cow1=Cow()\n",
        "Sheep1=Sheep()\n",
        "\n",
        "Cow1.sound()\n",
        "Sheep1.sound()\n",
        "\n",
        ""
      ],
      "metadata": {
        "colab": {
          "base_uri": "https://localhost:8080/"
        },
        "id": "fXk2sD6h1VB-",
        "outputId": "7e34c7c9-38a6-47b1-a886-624f4f5be273"
      },
      "execution_count": 46,
      "outputs": [
        {
          "output_type": "stream",
          "name": "stdout",
          "text": [
            "Cow sounds as ooooh\n",
            "Sheep sound isn't pleasant\n"
          ]
        }
      ]
    },
    {
      "cell_type": "code",
      "source": [
        "#17.  Create a class Book with attributes title, author, and year_published. Add a method get_book_info() that\n",
        "#returns a formatted string with the book's details.\n",
        "\n",
        "class Book:\n",
        "  def __init__(self,title,author, year_published):\n",
        "    self.title=title\n",
        "    self.author=author\n",
        "    self.year_published=year_published\n",
        "\n",
        "  def get_book_info(self):\n",
        "     return f\"Book info: The title is {self.title} by {self.author} in {self.year_published}\"\n",
        "\n",
        "Book1=Book(\"DataScience\",\"Anupam\",2025)\n",
        "print(Book1.get_book_info())"
      ],
      "metadata": {
        "colab": {
          "base_uri": "https://localhost:8080/"
        },
        "id": "9_DL8Aj52H4B",
        "outputId": "4f0eb4cd-3f8e-4c7c-aac7-4282b8803025"
      },
      "execution_count": 49,
      "outputs": [
        {
          "output_type": "stream",
          "name": "stdout",
          "text": [
            "Book info: The title is DataScience by Anupam in 2025\n"
          ]
        }
      ]
    },
    {
      "cell_type": "code",
      "source": [
        "#!8. Create a class House with attributes address and price. Create a derived class Mansion that adds an\n",
        "#attribute number_of_rooms.\n",
        "\n",
        "class House:\n",
        "  def __init__(self,address,price):\n",
        "    self.address=address\n",
        "    self.price=price\n",
        "\n",
        "\n",
        "class Mansion(House):\n",
        "  def __init__(self,address,price, number_of_rooms):\n",
        "    super().__init__(address,price)\n",
        "    self.number_of_rooms=number_of_rooms\n",
        "    print(f\"Address of house is {self.address} and price is {self.price} and rooms are {self.number_of_rooms}\")\n",
        "\n",
        "House1=Mansion(\"Road no.-26\", 650000, 3)\n"
      ],
      "metadata": {
        "colab": {
          "base_uri": "https://localhost:8080/"
        },
        "id": "ILpKmPrg3bmh",
        "outputId": "dcf6efc8-c743-423c-8f9e-ff85cc9da0c9"
      },
      "execution_count": 52,
      "outputs": [
        {
          "output_type": "stream",
          "name": "stdout",
          "text": [
            "Address of house is Road no.-26 and price is 650000 and rooms are 3\n"
          ]
        }
      ]
    },
    {
      "cell_type": "code",
      "source": [],
      "metadata": {
        "id": "FxaFSAVf9eJw"
      },
      "execution_count": null,
      "outputs": []
    }
  ]
}